{
 "cells": [
  {
   "cell_type": "markdown",
   "id": "29e67cd5-249e-4268-ae25-bc03de295aed",
   "metadata": {},
   "source": [
    "<font size=\"5\">**Previsione delle serie temporali con big data**</font><br>\n",
    "\n",
    "> (c) 2025 Antonio Piemontese"
   ]
  },
  {
   "cell_type": "markdown",
   "id": "0fe0da29-bed8-4fa8-966b-bdf1e44dd86d",
   "metadata": {},
   "source": [
    "Con 30 milioni di righe sei fuori dalla portata di molti strumenti \"standard\" (tipo pandas puro o scikit-learn senza accorgimenti). Però con gli strumenti giusti in Python puoi lavorare efficientemente anche su big data per analisi storiche e previsioni future."
   ]
  },
  {
   "cell_type": "markdown",
   "id": "9e4c99e5-0ae0-4d02-9bdf-4bf828484c5f",
   "metadata": {},
   "source": [
    "# Importazione dei package necessari"
   ]
  },
  {
   "cell_type": "code",
   "execution_count": null,
   "id": "ec9bc710-1b4c-475d-b094-76569d735b76",
   "metadata": {},
   "outputs": [],
   "source": []
  }
 ],
 "metadata": {
  "kernelspec": {
   "display_name": "Python 3 (ipykernel)",
   "language": "python",
   "name": "python3"
  },
  "language_info": {
   "codemirror_mode": {
    "name": "ipython",
    "version": 3
   },
   "file_extension": ".py",
   "mimetype": "text/x-python",
   "name": "python",
   "nbconvert_exporter": "python",
   "pygments_lexer": "ipython3",
   "version": "3.12.3"
  }
 },
 "nbformat": 4,
 "nbformat_minor": 5
}
